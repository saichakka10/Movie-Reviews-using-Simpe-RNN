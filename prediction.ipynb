{
 "cells": [
  {
   "cell_type": "code",
   "execution_count": null,
   "metadata": {},
   "outputs": [],
   "source": [
    "# import libraries \n",
    "import numpy as np\n",
    "import tensorflow as tf\n",
    "from tensorflow.keras.datasets import imdb\n",
    "from tensorflow.keras.preprocessing import sequence\n",
    "from tensorflow.keras.models import load_model"
   ]
  },
  {
   "cell_type": "code",
   "execution_count": 3,
   "metadata": {},
   "outputs": [],
   "source": [
    "# Load the model\n",
    "word_index = imdb.get_word_index()\n",
    "reverse_word_index = {value:key for key,value in word_index.items()}"
   ]
  },
  {
   "cell_type": "code",
   "execution_count": 4,
   "metadata": {},
   "outputs": [
    {
     "name": "stderr",
     "output_type": "stream",
     "text": [
      "WARNING:absl:Compiled the loaded model, but the compiled metrics have yet to be built. `model.compile_metrics` will be empty until you train or evaluate the model.\n"
     ]
    },
    {
     "data": {
      "text/html": [
       "<pre style=\"white-space:pre;overflow-x:auto;line-height:normal;font-family:Menlo,'DejaVu Sans Mono',consolas,'Courier New',monospace\"><span style=\"font-weight: bold\">Model: \"sequential_2\"</span>\n",
       "</pre>\n"
      ],
      "text/plain": [
       "\u001b[1mModel: \"sequential_2\"\u001b[0m\n"
      ]
     },
     "metadata": {},
     "output_type": "display_data"
    },
    {
     "data": {
      "text/html": [
       "<pre style=\"white-space:pre;overflow-x:auto;line-height:normal;font-family:Menlo,'DejaVu Sans Mono',consolas,'Courier New',monospace\">┏━━━━━━━━━━━━━━━━━━━━━━━━━━━━━━━━━┳━━━━━━━━━━━━━━━━━━━━━━━━┳━━━━━━━━━━━━━━━┓\n",
       "┃<span style=\"font-weight: bold\"> Layer (type)                    </span>┃<span style=\"font-weight: bold\"> Output Shape           </span>┃<span style=\"font-weight: bold\">       Param # </span>┃\n",
       "┡━━━━━━━━━━━━━━━━━━━━━━━━━━━━━━━━━╇━━━━━━━━━━━━━━━━━━━━━━━━╇━━━━━━━━━━━━━━━┩\n",
       "│ embedding_2 (<span style=\"color: #0087ff; text-decoration-color: #0087ff\">Embedding</span>)         │ (<span style=\"color: #00af00; text-decoration-color: #00af00\">32</span>, <span style=\"color: #00af00; text-decoration-color: #00af00\">500</span>, <span style=\"color: #00af00; text-decoration-color: #00af00\">128</span>)         │     <span style=\"color: #00af00; text-decoration-color: #00af00\">1,280,000</span> │\n",
       "├─────────────────────────────────┼────────────────────────┼───────────────┤\n",
       "│ simple_rnn_1 (<span style=\"color: #0087ff; text-decoration-color: #0087ff\">SimpleRNN</span>)        │ (<span style=\"color: #00af00; text-decoration-color: #00af00\">32</span>, <span style=\"color: #00af00; text-decoration-color: #00af00\">128</span>)              │        <span style=\"color: #00af00; text-decoration-color: #00af00\">32,896</span> │\n",
       "├─────────────────────────────────┼────────────────────────┼───────────────┤\n",
       "│ dense_1 (<span style=\"color: #0087ff; text-decoration-color: #0087ff\">Dense</span>)                 │ (<span style=\"color: #00af00; text-decoration-color: #00af00\">32</span>, <span style=\"color: #00af00; text-decoration-color: #00af00\">1</span>)                │           <span style=\"color: #00af00; text-decoration-color: #00af00\">129</span> │\n",
       "└─────────────────────────────────┴────────────────────────┴───────────────┘\n",
       "</pre>\n"
      ],
      "text/plain": [
       "┏━━━━━━━━━━━━━━━━━━━━━━━━━━━━━━━━━┳━━━━━━━━━━━━━━━━━━━━━━━━┳━━━━━━━━━━━━━━━┓\n",
       "┃\u001b[1m \u001b[0m\u001b[1mLayer (type)                   \u001b[0m\u001b[1m \u001b[0m┃\u001b[1m \u001b[0m\u001b[1mOutput Shape          \u001b[0m\u001b[1m \u001b[0m┃\u001b[1m \u001b[0m\u001b[1m      Param #\u001b[0m\u001b[1m \u001b[0m┃\n",
       "┡━━━━━━━━━━━━━━━━━━━━━━━━━━━━━━━━━╇━━━━━━━━━━━━━━━━━━━━━━━━╇━━━━━━━━━━━━━━━┩\n",
       "│ embedding_2 (\u001b[38;5;33mEmbedding\u001b[0m)         │ (\u001b[38;5;34m32\u001b[0m, \u001b[38;5;34m500\u001b[0m, \u001b[38;5;34m128\u001b[0m)         │     \u001b[38;5;34m1,280,000\u001b[0m │\n",
       "├─────────────────────────────────┼────────────────────────┼───────────────┤\n",
       "│ simple_rnn_1 (\u001b[38;5;33mSimpleRNN\u001b[0m)        │ (\u001b[38;5;34m32\u001b[0m, \u001b[38;5;34m128\u001b[0m)              │        \u001b[38;5;34m32,896\u001b[0m │\n",
       "├─────────────────────────────────┼────────────────────────┼───────────────┤\n",
       "│ dense_1 (\u001b[38;5;33mDense\u001b[0m)                 │ (\u001b[38;5;34m32\u001b[0m, \u001b[38;5;34m1\u001b[0m)                │           \u001b[38;5;34m129\u001b[0m │\n",
       "└─────────────────────────────────┴────────────────────────┴───────────────┘\n"
      ]
     },
     "metadata": {},
     "output_type": "display_data"
    },
    {
     "data": {
      "text/html": [
       "<pre style=\"white-space:pre;overflow-x:auto;line-height:normal;font-family:Menlo,'DejaVu Sans Mono',consolas,'Courier New',monospace\"><span style=\"font-weight: bold\"> Total params: </span><span style=\"color: #00af00; text-decoration-color: #00af00\">1,313,027</span> (5.01 MB)\n",
       "</pre>\n"
      ],
      "text/plain": [
       "\u001b[1m Total params: \u001b[0m\u001b[38;5;34m1,313,027\u001b[0m (5.01 MB)\n"
      ]
     },
     "metadata": {},
     "output_type": "display_data"
    },
    {
     "data": {
      "text/html": [
       "<pre style=\"white-space:pre;overflow-x:auto;line-height:normal;font-family:Menlo,'DejaVu Sans Mono',consolas,'Courier New',monospace\"><span style=\"font-weight: bold\"> Trainable params: </span><span style=\"color: #00af00; text-decoration-color: #00af00\">1,313,025</span> (5.01 MB)\n",
       "</pre>\n"
      ],
      "text/plain": [
       "\u001b[1m Trainable params: \u001b[0m\u001b[38;5;34m1,313,025\u001b[0m (5.01 MB)\n"
      ]
     },
     "metadata": {},
     "output_type": "display_data"
    },
    {
     "data": {
      "text/html": [
       "<pre style=\"white-space:pre;overflow-x:auto;line-height:normal;font-family:Menlo,'DejaVu Sans Mono',consolas,'Courier New',monospace\"><span style=\"font-weight: bold\"> Non-trainable params: </span><span style=\"color: #00af00; text-decoration-color: #00af00\">0</span> (0.00 B)\n",
       "</pre>\n"
      ],
      "text/plain": [
       "\u001b[1m Non-trainable params: \u001b[0m\u001b[38;5;34m0\u001b[0m (0.00 B)\n"
      ]
     },
     "metadata": {},
     "output_type": "display_data"
    },
    {
     "data": {
      "text/html": [
       "<pre style=\"white-space:pre;overflow-x:auto;line-height:normal;font-family:Menlo,'DejaVu Sans Mono',consolas,'Courier New',monospace\"><span style=\"font-weight: bold\"> Optimizer params: </span><span style=\"color: #00af00; text-decoration-color: #00af00\">2</span> (12.00 B)\n",
       "</pre>\n"
      ],
      "text/plain": [
       "\u001b[1m Optimizer params: \u001b[0m\u001b[38;5;34m2\u001b[0m (12.00 B)\n"
      ]
     },
     "metadata": {},
     "output_type": "display_data"
    }
   ],
   "source": [
    "# Load the pretained model with relu activation function\n",
    "model=load_model('simple_rnn_imdb.h5')\n",
    "model.summary()"
   ]
  },
  {
   "cell_type": "code",
   "execution_count": 5,
   "metadata": {},
   "outputs": [
    {
     "data": {
      "text/plain": [
       "[array([[ 0.06451252,  0.2725258 , -0.04615428, ...,  0.0290198 ,\n",
       "         -0.04444749,  0.19744493],\n",
       "        [ 0.03356732,  0.06164765, -0.04840766, ...,  0.06257027,\n",
       "          0.02610723,  0.05463365],\n",
       "        [ 0.0080662 ,  0.05761317,  0.03338327, ...,  0.08026236,\n",
       "         -0.01453278,  0.06276575],\n",
       "        ...,\n",
       "        [ 0.03183255,  0.07580627,  0.06153277, ..., -0.01027957,\n",
       "         -0.02194214, -0.01387125],\n",
       "        [-0.04896938, -0.04836024, -0.03078082, ...,  0.016243  ,\n",
       "         -0.0106847 ,  0.00876758],\n",
       "        [-0.01334324, -0.03075964,  0.10790204, ..., -0.13259077,\n",
       "         -0.02834321, -0.15705194]], dtype=float32),\n",
       " array([[-0.00482929, -0.17205612, -0.10442685, ...,  0.1359498 ,\n",
       "         -0.12967518,  0.07533678],\n",
       "        [-0.1546124 , -0.0055335 ,  0.09576624, ..., -0.16359094,\n",
       "         -0.13489662, -0.06324859],\n",
       "        [-0.1340645 ,  0.06158634,  0.03719484, ...,  0.11233571,\n",
       "         -0.17532347, -0.03383777],\n",
       "        ...,\n",
       "        [ 0.09397691, -0.1610937 , -0.18342687, ...,  0.13941056,\n",
       "         -0.1145171 ,  0.03116866],\n",
       "        [-0.06903625,  0.09208421, -0.12370896, ...,  0.13404937,\n",
       "         -0.04696504,  0.10227472],\n",
       "        [-0.17294334, -0.1326845 ,  0.11658727, ...,  0.09757758,\n",
       "          0.0351885 , -0.03226935]], dtype=float32),\n",
       " array([[-0.12878655, -0.08650396,  0.02726245, ..., -0.06730402,\n",
       "         -0.07046279, -0.01047743],\n",
       "        [-0.01584118, -0.13166238, -0.00364784, ...,  0.06201125,\n",
       "          0.05515673, -0.19018257],\n",
       "        [-0.01176595,  0.1837369 , -0.06429318, ...,  0.22514734,\n",
       "          0.15838237, -0.0120041 ],\n",
       "        ...,\n",
       "        [-0.02441312, -0.09686179,  0.01711161, ...,  0.05043079,\n",
       "          0.05283245,  0.00949133],\n",
       "        [ 0.09881334, -0.13168724, -0.08467336, ...,  0.27294797,\n",
       "         -0.09796181, -0.19998536],\n",
       "        [-0.23505487,  0.02941494, -0.08378272, ...,  0.08540709,\n",
       "          0.01217456, -0.00855432]], dtype=float32),\n",
       " array([-1.51764220e-02,  1.14907706e-02, -3.56632583e-02, -9.86544508e-03,\n",
       "        -3.70854884e-02, -2.01418763e-03, -1.82511136e-02, -2.10088473e-02,\n",
       "        -1.66017488e-02, -2.05114926e-03, -1.47184059e-02, -2.80064764e-03,\n",
       "        -3.07109226e-02, -1.36577003e-02, -4.88954633e-02, -3.82765494e-02,\n",
       "        -2.85455827e-02,  2.27782391e-02,  1.51066743e-02, -3.36395204e-03,\n",
       "        -7.96618685e-03, -1.34991854e-02, -2.87062246e-02, -4.33365814e-02,\n",
       "         1.52447335e-02, -4.56385035e-03,  2.72676982e-02, -1.73314884e-02,\n",
       "        -4.08104714e-03, -1.54448273e-02, -8.18458386e-03, -4.87083243e-03,\n",
       "        -3.14544700e-02, -4.43464378e-03, -4.64730449e-02, -4.27087657e-02,\n",
       "        -4.79196608e-02, -8.17631185e-03,  2.73603983e-02, -1.30917961e-02,\n",
       "         4.45006192e-02, -1.70862395e-02, -3.08940690e-02, -9.33839567e-03,\n",
       "         1.01113524e-02,  1.01768989e-02, -2.22561136e-02, -2.74552200e-02,\n",
       "         7.88136665e-03, -4.66212491e-03, -1.76676977e-02, -2.16346942e-02,\n",
       "         9.58101649e-04, -2.48486847e-02,  6.90474873e-03, -3.03364713e-02,\n",
       "        -2.34095268e-02, -2.33970545e-02, -1.12884119e-02, -7.64387427e-04,\n",
       "        -2.02679238e-03, -1.68206748e-02, -1.48643805e-02, -1.69502795e-02,\n",
       "        -1.22300321e-02, -5.18421382e-02, -9.53063462e-03, -1.09213581e-02,\n",
       "        -1.57305561e-02, -2.03396212e-02,  5.98956272e-03, -1.96146546e-03,\n",
       "        -2.43832404e-03, -2.27116328e-02, -2.30395086e-02, -3.08788903e-02,\n",
       "        -2.81902663e-02, -2.51040682e-02, -4.46464866e-02, -8.32548272e-03,\n",
       "        -2.98157893e-02, -2.88940612e-02, -3.23442779e-02,  1.78757515e-02,\n",
       "        -3.20687704e-02,  8.28811619e-03, -2.10579168e-02,  2.29832879e-03,\n",
       "        -3.24915461e-02, -8.96310247e-03,  3.21031269e-03,  2.17246059e-02,\n",
       "        -1.48663940e-02,  6.60389150e-03, -1.77292768e-02, -6.21067546e-03,\n",
       "         3.38409767e-02, -2.64042914e-02, -2.49589248e-05, -1.69648770e-02,\n",
       "        -3.43259983e-03, -6.68387068e-03, -2.36740578e-02, -2.02427013e-03,\n",
       "         2.17879210e-02, -9.03393794e-03,  7.70614995e-03, -5.75442053e-03,\n",
       "        -3.21485214e-02, -2.18253396e-02, -4.08877805e-03,  4.77911234e-02,\n",
       "        -3.06876330e-03, -2.37460975e-02, -3.78581323e-02, -2.51570251e-02,\n",
       "        -3.06719877e-02, -1.24320723e-02, -1.03000021e-02, -1.93656571e-02,\n",
       "         2.22050976e-02, -4.46049795e-02, -1.02277594e-02, -1.11357048e-02,\n",
       "        -2.66197864e-02, -2.21983325e-02,  8.95212498e-03, -2.72586178e-02],\n",
       "       dtype=float32),\n",
       " array([[-5.06529137e-02],\n",
       "        [ 2.13404715e-01],\n",
       "        [-1.61605120e-01],\n",
       "        [-1.73025414e-01],\n",
       "        [-4.83166836e-02],\n",
       "        [-1.93748295e-01],\n",
       "        [-1.68262273e-01],\n",
       "        [-5.74540615e-01],\n",
       "        [-6.80945396e-01],\n",
       "        [ 3.56398672e-02],\n",
       "        [-8.65412652e-02],\n",
       "        [ 4.12618607e-01],\n",
       "        [ 1.05421491e-01],\n",
       "        [ 1.72339275e-01],\n",
       "        [-7.41452992e-01],\n",
       "        [-2.56944507e-01],\n",
       "        [ 1.37608558e-01],\n",
       "        [-2.02057034e-01],\n",
       "        [ 3.38370234e-01],\n",
       "        [-1.13256848e+00],\n",
       "        [-2.72962041e-02],\n",
       "        [-6.56467080e-01],\n",
       "        [-3.98332387e-01],\n",
       "        [-1.70228288e-01],\n",
       "        [-1.10340759e-01],\n",
       "        [ 1.09433234e-01],\n",
       "        [ 6.03366680e-02],\n",
       "        [ 8.23554337e-01],\n",
       "        [-5.78856319e-02],\n",
       "        [-3.44658196e-02],\n",
       "        [ 3.23360354e-01],\n",
       "        [ 7.50173852e-02],\n",
       "        [ 4.75706428e-01],\n",
       "        [-6.38833106e-01],\n",
       "        [-5.93060255e-01],\n",
       "        [ 1.24646112e-01],\n",
       "        [-1.24383718e-01],\n",
       "        [-7.93710575e-02],\n",
       "        [ 1.30836770e-01],\n",
       "        [ 2.39511430e-01],\n",
       "        [ 2.56969869e-01],\n",
       "        [ 2.33457223e-01],\n",
       "        [ 2.43669692e-02],\n",
       "        [-2.60061681e-01],\n",
       "        [-5.70978701e-01],\n",
       "        [-6.52849734e-01],\n",
       "        [-2.80669689e-01],\n",
       "        [-1.24700636e-01],\n",
       "        [-2.61909217e-01],\n",
       "        [ 1.99600637e-01],\n",
       "        [ 1.79470718e-01],\n",
       "        [-3.12838376e-01],\n",
       "        [-9.62143168e-02],\n",
       "        [ 2.04006974e-02],\n",
       "        [ 2.95789331e-01],\n",
       "        [-7.69390762e-02],\n",
       "        [-5.76506734e-01],\n",
       "        [ 1.86275572e-01],\n",
       "        [ 2.52411306e-01],\n",
       "        [-1.54579878e-01],\n",
       "        [ 1.61201358e-01],\n",
       "        [ 1.24131918e-01],\n",
       "        [ 1.91053063e-01],\n",
       "        [ 2.58848686e-02],\n",
       "        [ 7.89224878e-02],\n",
       "        [ 3.01782846e-01],\n",
       "        [ 2.33617708e-01],\n",
       "        [-1.31986156e-01],\n",
       "        [-1.49609029e-01],\n",
       "        [ 2.03933761e-01],\n",
       "        [-1.48702726e-01],\n",
       "        [ 9.69498828e-02],\n",
       "        [ 8.52111578e-02],\n",
       "        [ 4.35103565e-01],\n",
       "        [ 2.35243693e-01],\n",
       "        [ 2.85528712e-02],\n",
       "        [ 4.35512438e-02],\n",
       "        [-1.41482279e-01],\n",
       "        [-4.75589395e-01],\n",
       "        [ 3.34572196e-01],\n",
       "        [ 1.10895276e-01],\n",
       "        [-1.28997460e-01],\n",
       "        [-4.61308211e-01],\n",
       "        [ 1.87655419e-01],\n",
       "        [ 3.22510123e-01],\n",
       "        [-1.28591046e-01],\n",
       "        [ 6.41504526e-02],\n",
       "        [ 1.23381898e-01],\n",
       "        [ 1.52842268e-01],\n",
       "        [ 1.62276343e-01],\n",
       "        [-6.59572929e-02],\n",
       "        [-1.84704646e-01],\n",
       "        [ 1.74729571e-01],\n",
       "        [-7.63161341e-04],\n",
       "        [-4.06229794e-01],\n",
       "        [-4.50225137e-02],\n",
       "        [ 2.49701172e-01],\n",
       "        [ 5.12120966e-03],\n",
       "        [-1.01671852e-02],\n",
       "        [-1.78656593e-01],\n",
       "        [-1.18695688e+00],\n",
       "        [-1.95833385e-01],\n",
       "        [-1.06662996e-02],\n",
       "        [ 2.06853226e-01],\n",
       "        [ 1.70019910e-01],\n",
       "        [ 2.69720167e-01],\n",
       "        [ 2.56739795e-01],\n",
       "        [-1.09665871e-01],\n",
       "        [ 4.80835348e-01],\n",
       "        [-7.83849478e-01],\n",
       "        [ 1.89490110e-01],\n",
       "        [ 1.52923986e-01],\n",
       "        [ 4.42109331e-02],\n",
       "        [-1.19115889e-01],\n",
       "        [ 1.26749009e-01],\n",
       "        [ 9.88484249e-02],\n",
       "        [-1.00854322e-01],\n",
       "        [-5.80037311e-02],\n",
       "        [ 1.40840977e-01],\n",
       "        [ 5.67972288e-02],\n",
       "        [-7.42853343e-01],\n",
       "        [ 1.35409283e-02],\n",
       "        [-2.54232615e-01],\n",
       "        [ 1.90572113e-01],\n",
       "        [ 1.93811655e-01],\n",
       "        [-5.32915294e-01],\n",
       "        [-8.38700682e-02],\n",
       "        [ 1.31005198e-01]], dtype=float32),\n",
       " array([-0.1426011], dtype=float32)]"
      ]
     },
     "execution_count": 5,
     "metadata": {},
     "output_type": "execute_result"
    }
   ],
   "source": [
    "model.get_weights()"
   ]
  },
  {
   "cell_type": "code",
   "execution_count": 6,
   "metadata": {},
   "outputs": [],
   "source": [
    "# Function to decode reviews\n",
    "def decode_review(encoded_review):\n",
    "    return \" \".join([reverse_word_index.get(i-3,\"?\") for i in encoded_review])"
   ]
  },
  {
   "cell_type": "code",
   "execution_count": 7,
   "metadata": {},
   "outputs": [],
   "source": [
    "# Function to preprocess user input\n",
    "def preprocess_text(text):\n",
    "    words=text.lower().split()\n",
    "    encoded_review = [word_index.get(word,2)+3 for word in words]\n",
    "    padded_review = sequence.pad_sequences([encoded_review],maxlen=500)\n",
    "    return padded_review"
   ]
  },
  {
   "cell_type": "code",
   "execution_count": 8,
   "metadata": {},
   "outputs": [],
   "source": [
    "# Prediction function\n",
    "def predict_sentiment(review):\n",
    "    preprocessed_input = preprocess_text(review)\n",
    "    prediction = model.predict(preprocessed_input)\n",
    "    sentiment = \"Positive\" if prediction[0][0]>0.5 else \"Negative\"\n",
    "    return sentiment, prediction[0][0]"
   ]
  },
  {
   "cell_type": "code",
   "execution_count": 9,
   "metadata": {},
   "outputs": [
    {
     "name": "stdout",
     "output_type": "stream",
     "text": [
      "\u001b[1m1/1\u001b[0m \u001b[32m━━━━━━━━━━━━━━━━━━━━\u001b[0m\u001b[37m\u001b[0m \u001b[1m0s\u001b[0m 199ms/step\n",
      "Review:This movie was fantastic! The acting was great and the plot was thrilling\n",
      "Sentiment:Positive\n",
      "prediction score:0.8084672093391418\n"
     ]
    }
   ],
   "source": [
    "# Example review for prediction\n",
    "example_review = \"This movie was fantastic! The acting was great and the plot was thrilling\"\n",
    "sentiment,score = predict_sentiment(example_review)\n",
    "print(f\"Review:{example_review}\")\n",
    "print(f\"Sentiment:{sentiment}\")\n",
    "print(f\"prediction score:{score}\")"
   ]
  }
 ],
 "metadata": {
  "kernelspec": {
   "display_name": "Python 3",
   "language": "python",
   "name": "python3"
  },
  "language_info": {
   "codemirror_mode": {
    "name": "ipython",
    "version": 3
   },
   "file_extension": ".py",
   "mimetype": "text/x-python",
   "name": "python",
   "nbconvert_exporter": "python",
   "pygments_lexer": "ipython3",
   "version": "3.11.0"
  }
 },
 "nbformat": 4,
 "nbformat_minor": 2
}
